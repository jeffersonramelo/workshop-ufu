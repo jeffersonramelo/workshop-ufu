{
  "nbformat": 4,
  "nbformat_minor": 0,
  "metadata": {
    "colab": {
      "provenance": [],
      "authorship_tag": "ABX9TyNobFr6Yld/FqQ++iqDdw+0",
      "include_colab_link": true
    },
    "kernelspec": {
      "name": "python3",
      "display_name": "Python 3"
    },
    "language_info": {
      "name": "python"
    }
  },
  "cells": [
    {
      "cell_type": "markdown",
      "metadata": {
        "id": "view-in-github",
        "colab_type": "text"
      },
      "source": [
        "<a href=\"https://colab.research.google.com/github/jeffersonramelo/workshop-ufu/blob/main/base_copomEN_ML.ipynb\" target=\"_parent\"><img src=\"https://colab.research.google.com/assets/colab-badge.svg\" alt=\"Open In Colab\"/></a>"
      ]
    },
    {
      "cell_type": "code",
      "source": [
        "import pandas as pd\n",
        "# Ler o arquivo XLSX\n",
        "dados = pd.read_excel('/content/atascopomEN_ML.xlsx')"
      ],
      "metadata": {
        "id": "c2mDZfX7YWnV"
      },
      "execution_count": 3,
      "outputs": []
    },
    {
      "cell_type": "code",
      "source": [
        "#vizualizar dados\n",
        "dados.head()"
      ],
      "metadata": {
        "id": "wqgE3so93YYp"
      },
      "execution_count": null,
      "outputs": []
    },
    {
      "cell_type": "code",
      "source": [
        "#quantos dados positivo e negativos?\n",
        "dados.sentimento.value_counts()"
      ],
      "metadata": {
        "colab": {
          "base_uri": "https://localhost:8080/"
        },
        "id": "Jy90HFtf3Hzv",
        "outputId": "a7ab4bbf-7806-4b61-d845-24b9335c440a"
      },
      "execution_count": null,
      "outputs": [
        {
          "output_type": "execute_result",
          "data": {
            "text/plain": [
              "negativo    142\n",
              "positivo     72\n",
              "Name: sentimento, dtype: int64"
            ]
          },
          "metadata": {},
          "execution_count": 5
        }
      ]
    },
    {
      "cell_type": "code",
      "source": [
        "# Acessar os textos contidos nas celulas, só substituir o número da celula que deseja vizualizar\n",
        "celula = dados.loc[0, 'texto']\n",
        "\n",
        "# Imprimir o conteúdo da célula\n",
        "print(celula)\n"
      ],
      "metadata": {
        "colab": {
          "base_uri": "https://localhost:8080/"
        },
        "id": "dNLlKhMh35qO",
        "outputId": "11c4bcba-34bc-424b-baa3-fd5e4ca5c511"
      },
      "execution_count": null,
      "outputs": [
        {
          "output_type": "stream",
          "name": "stdout",
          "text": [
            "th_x000d_ 254 minutes meeting the_x000d_ monetary policy committee copom_x000d_ may 23 2023_x000d_ _x000d_ _x000d_ _x000d_ _x000d_ 1 bcbgovbr_x000d_ _x000d_ 254th meeting_x000d_ copom_x000d_ may 23_x000d_ _x000d_ _x000d_ date may 23 2023_x000d_ _x000d_ place bcb headquarters meeting rooms 8th floor 52 53 morning_x000d_ 20th floor 53 afternoon brasilia df brazil_x000d_ _x000d_ starting ending may 2 1013 1221 pm 228 pm 638 pm_x000d_ times may 3 1006 1115 pm 234 pm 646 pm_x000d_ _x000d_ attendance_x000d_ copom members roberto de oliveira campos neto governor_x000d_ diogo abry guillen_x000d_ fernanda magalhães rumenos guardado_x000d_ maurício costa de moura_x000d_ otávio ribeiro damaso_x000d_ paulo sérgio neves de souza_x000d_ renato dias de brito gomes_x000d_ _x000d_ department heads alan da silva andrade mendes department foreign reserves_x000d_ charge technical andré minella research department also present afternoon 53_x000d_ presentations attending andré de oliveira amante open market operations department_x000d_ 52 fabia aparecida de carvalho department international affairs_x000d_ morning 53 ricardo sabbadini department economics_x000d_ rogério antônio lucca department banking operations payments system_x000d_ _x000d_ _x000d_ participants antônio geraldo filho head division bcbs internal auditing_x000d_ attending 52 arnildo da silva correa head office economic advisor_x000d_ morning 53 cristiano de oliveira lopes cozer general counsel_x000d_ edson broxado de frança teixeira head deputy governor supervisions office_x000d_ eduardo josé araújo lima head deputy governor economic policys office_x000d_ euler pereira gonçalves de mello deputy head research department_x000d_ fernando alberto g sampaio de cavalcante rocha head department statistics_x000d_ gilneu francisco astolfi vivan head financial system monitoring department_x000d_ isabela ribeiro damaso maia head sustainability international portfolio investors_x000d_ unit_x000d_ julio cesar costa pinto head deputy governor monetary policys office_x000d_ laura soledad cutruffo comparini deputy head department economics_x000d_ leonardo martins nogueira executive secretary_x000d_ luís guilherme siciliano pontes deputy head international reserves department_x000d_ mariane santiago de souza head governors office_x000d_ olavo lins romano pereira deputy head department international affairs_x000d_ ricardo eyer harris head office deputy governor regulations office_x000d_ ricardo franco moura head prudential foreign exchange regulation department_x000d_ ricardo josé de souza oliveira coordinator bcbs internal auditing_x000d_ _x000d_ _x000d_ copom members analyzed recent performance prospects brazilian and_x000d_ international economies monetary policy framework whose objective comply with_x000d_ inflation targets established national monetary council document represents_x000d_ copoms best effort provide english version policy meeting minutes case of_x000d_ inconsistency portuguese version prevails_x000d_ _x000d_ _x000d_ _x000d_ _x000d_ 2 bcbgovbr_x000d_ _x000d_ 254th meeting_x000d_ copom_x000d_ may 23_x000d_ _x000d_ update economic outlook copoms scenario 1_x000d_ 1 global environment remains challenging episodes involving banks abroad_x000d_ increased uncertainty limited contagion financial conditions so_x000d_ far requiring constant monitoring impact episodes financial conditions_x000d_ consequently global growth still uncertain negative bias major_x000d_ economies emphasized principle separation objectives instruments_x000d_ conduct monetary macroprudential policies despite incorporating the_x000d_ impacts activity scenarios_x000d_ 2 time central banks major economies remain committed to_x000d_ bringing inflation back targets environment inflation been_x000d_ resilient recent inflation readings several countries point stabilization of_x000d_ core inflation levels targets reinforce persistent nature the_x000d_ current inflationary process furthermore monetary authorities signal a_x000d_ prolonged period high interest rates necessary fight inflationary pressures which_x000d_ calls greater caution conduct economic policies also emerging countries_x000d_ 3 turning brazilian economy committees expected scenario gradual_x000d_ growth slowdown still corroborated recent set indicators moderation_x000d_ observed coincident indicators activity well slowdown credit_x000d_ market margin labor market surprised positively throughout 2022_x000d_ shown resilience net increase job creation relative stability the_x000d_ unemployment rate_x000d_ 4 consumer inflation remains high inflation components sensitive to_x000d_ economic cycle monetary policy present greater inflationary_x000d_ inertia remains range compatible meeting inflation target inflation_x000d_ expectations 2023 2024 collected focus survey increased_x000d_ marginally around 61 42 respectively_x000d_ _x000d_ b scenarios risk analysis_x000d_ 5 reference scenario interest rate path extracted focus survey_x000d_ exchange rate starts usdbrl 505 2 evolves according purchasing_x000d_ power parity ppp committee assumes oil prices follow approximately the_x000d_ futures market curve following six months start increasing 2 per year_x000d_ onwards moreover energy flag assumed green december 2023 and_x000d_ 2024 scenario copoms inflation projections stand 58 2023 36_x000d_ 2024 inflation projections administered prices 108 2023 52 for_x000d_ 2024_x000d_ 6 committee analyzed alternative scenario stable interest rates the_x000d_ entire relevant horizon scenario inflation projections stand 57 2023_x000d_ 29 2024_x000d_ 7 neutral real interest rate rate absence impact other_x000d_ factors inflation rate remains stable output grows according its_x000d_ potential reflecting productivity gains changes structural fundamentals of_x000d_ economy assessing factors could lead unfold alternative scenario_x000d_ characterized higher neutral interest rate emphasis placed possible_x000d_ adoption expansionary parafiscal policies increase neutral rate and_x000d_ reduce power monetary policy previously remarked committee still_x000d_ regarding debate current neutral interest rate economy some_x000d_ members raised additional aspect related recent economic data set these_x000d_ members pointed scenario marked possible rise neutral interest rates_x000d_ _x000d_ 1_x000d_ unless explicitly stated otherwise update takes account changes occurred since march_x000d_ copom meeting 253rd meeting_x000d_ 2_x000d_ value obtained according usual procedure rounding average usdbrl exchange rate observed_x000d_ five business days ending last day week copom meeting_x000d_ _x000d_ 3 bcbgovbr_x000d_ _x000d_ 254th meeting_x000d_ copom_x000d_ may 23_x000d_ _x000d_ major economies resilience brazilian activity slow disinflationary process_x000d_ could compatible higher measure neutral rate assumed the_x000d_ committee argument therefore current monetary tightening would_x000d_ lead lower contractionary impact implicit copoms scenarios_x000d_ however committee members judged interpretation still seems_x000d_ premature needs corroboration data_x000d_ 8 regarding global outlook low degree labor market slack some_x000d_ economies persistently high current inflation widespread services_x000d_ sector suggest inflationary pressures last longer context reducing_x000d_ inflationary pressures continues require commitment determination of_x000d_ central banks control inflation maintaining tightening financial conditions_x000d_ longer period determination likely impact upon asset prices the_x000d_ short term coupled credit slowdown major economies contributes more_x000d_ credible lasting global disinflationary process_x000d_ 9 despite limited contagion recent financial instability us banking_x000d_ sector tightening credit conditions observed country thus_x000d_ despite reduction likelihood disruption credit market scenario_x000d_ restricted credit supply consequently lower economic growth_x000d_ prevails committee continue monitor situation analyzing possible_x000d_ transmission channels although direct impact domestic financial system is_x000d_ deemed limited committee reinforces best contribution monetary_x000d_ policy fight inflationary pressures smooth economic fluctuations it_x000d_ emphasizes separation instruments objectives of_x000d_ inflation control financial stability_x000d_ 10 brazilian activity data point moderate pace growth margin with_x000d_ emphasis support given consumption demand side the_x000d_ agricultural livestock sector supply side members reminded the_x000d_ methodological changes monthly activity surveys may increase uncertainty gdp_x000d_ projections current assessment activity copom anticipates more_x000d_ vigorous gdp growth release first quarter 2023 especially due to_x000d_ agricultural production followed moderation economic activity environment_x000d_ marked resilience labor market addition formal employment data_x000d_ continued reveal increase job creation recent period members_x000d_ noted movement towards partial recomposition recent losses real_x000d_ wages movement expected accompanied deceleration in_x000d_ nominal gains expected intensify ahead finally noted the_x000d_ economic growth outlook changed significantly recent period_x000d_ 11 committee believes disinflation dynamics continues be_x000d_ characterized process two distinct stages first stage already_x000d_ completed speed disinflation greater greater effect administered_x000d_ prices indirect effect market prices less inertia second stage_x000d_ currently observed speed disinflation slower core inflation_x000d_ affected aggregate demand interest rate policy _x000d_ declines slower pace responding output gap future inflation_x000d_ expectations recent inflationary data support view slower_x000d_ disinflation process line view inflation driven excess demand_x000d_ mostly services segment committee reaffirms disinflation process_x000d_ current stage demands serenity patience conduct monetary policy to_x000d_ ensure convergence inflation targets_x000d_ 12 still discussion inflationary behavior recent benign behavior of_x000d_ wholesale prices emphasized food industrial goods line the_x000d_ committees view addition due comfortable water scenario 2023 green_x000d_ energy flag assumed december moreover seeking avoid excessive impact_x000d_ assumption energy tariff flags inherently affected lot of_x000d_ uncertainty longer horizons inflation projections possible impacts on_x000d_ _x000d_ 4 bcbgovbr_x000d_ _x000d_ 254th meeting_x000d_ copom_x000d_ may 23_x000d_ _x000d_ conduct monetary policy decided adopt neutral flag ie green flag_x000d_ december 2024 also line view analysts outlined pre_x000d_ copom questionnaire terms trajectory consumer inflation 2023 it_x000d_ noted relevant drop expected twelvemonth inflation during_x000d_ second quarter due base effect previous year second half of_x000d_ 2023 twelvemonth inflation longer includes effects tax measures_x000d_ reduced price level third quarter 2022 effects years_x000d_ tax measures still included inflation indicator rise copom therefore_x000d_ emphasizes behavior reflect underlying inflationary dynamics_x000d_ change view future prospects_x000d_ 13 inflation expectations remain deanchored targets set national_x000d_ monetary council slightly deteriorated margin committee is_x000d_ following movement concern continues assess deanchored_x000d_ expectations raise cost bringing inflation back target emphasized_x000d_ behavior expectations fundamental aspect inflationary_x000d_ process since serves guide present future prices wages setting thus_x000d_ expectations rise greater rise prices current period the_x000d_ inflationary process fueled expectations also highlighted the_x000d_ anchoring expectations key factor price stability context the_x000d_ committee reinforces decisions induce reanchoring expectations and_x000d_ raise confidence inflation targets would contribute faster less costly_x000d_ disinflation process_x000d_ 14 domestic credit granting scenario seems compatible current stage of_x000d_ monetary policy cycle despite persistence stronger decrease supply_x000d_ credit specific modalities committee anticipates moderation credit_x000d_ granting next months line observed previous_x000d_ monetary policy tightening cycles committee believes bcb the_x000d_ appropriate necessary liquidity instruments associated macroprudential_x000d_ policy deal relevant frictions system occur_x000d_ 15 committee also discussed impacts fiscal scenario inflation and_x000d_ assesses presentation fiscal framework reduced uncertainty_x000d_ associated extreme scenarios public debt growth committee continue_x000d_ monitor processing implementation fiscal framework presented by_x000d_ government discussion national congress copom again_x000d_ emphasized mechanical relationship convergence of_x000d_ inflation approval fiscal framework since inflation path conditional_x000d_ reaction inflation expectations financial conditions materialization_x000d_ scenario solid credible fiscal framework may lead benign_x000d_ disinflation process effect expectations channel reducing_x000d_ inflation expectations uncertainty economy risk premium associated with_x000d_ domestic assets consequently committees projections_x000d_ 16 committee emphasizes risks scenarios remain directions_x000d_ among upside risks inflationary scenario inflation expectations should_x000d_ emphasized greater persistence global inflationary pressures ii lingering_x000d_ uncertainty final fiscal framework approved national congress_x000d_ relevant monetary policy impacts expected paths public_x000d_ debt inflation expectations risky assets iii larger more_x000d_ persistent deanchoring longterm inflation expectations among downside risks_x000d_ noted additional reduction prices international commodities_x000d_ measured local currency ii greater projected deceleration global economic_x000d_ activity particularly due adverse conditions global financial system iii a_x000d_ slowdown domestic credit granting larger would compatible the_x000d_ current stance monetary policy_x000d_ 17 one hand reinstatement fuel taxes primarily presentation_x000d_ proposal fiscal framework partly reduced uncertainty arising from_x000d_ _x000d_ 5 bcbgovbr_x000d_ _x000d_ 254th meeting_x000d_ copom_x000d_ may 23_x000d_ _x000d_ fiscal policy hand current scenario characterized stage which_x000d_ disinflationary process tends slower environment deanchored_x000d_ inflation expectations requires attention conducting monetary policy_x000d_ copom emphasizes mechanical relationship convergence_x000d_ inflation approval fiscal framework judges deanchoring_x000d_ longterm inflation expectations raises cost disinflation needed to_x000d_ reach targets established national monetary council scenario copom_x000d_ reaffirms commitment set monetary policy meet targets_x000d_ c discussion conduct monetary policy conduct_x000d_ 18 copom discussed conduct monetary policy considering set projections_x000d_ evaluated well balance risks inflation_x000d_ 19 copom started debate evaluating whether previously outlined strategy_x000d_ stable interest rates would enough ensure convergence inflation_x000d_ towards targets end committee continued process analyzing_x000d_ main determinants inflation path behaved most_x000d_ recent period significant change occurred prospective scenario output_x000d_ gap services inflation measures core inflation increased resilience and_x000d_ lower speed observed recent releases line nonlinear process_x000d_ already anticipated copom addition inflation expectations remain deanchored_x000d_ partially related questioning possible change future inflation targets_x000d_ 20 copoms inflation projections remained relatively stable since previous_x000d_ meeting finally balance risks besides factors already mentioned the_x000d_ committee evaluates probability extreme scenarios public_x000d_ debt trajectory reduced also noted relevant change the_x000d_ inflation projections since expectations change significantly behavior_x000d_ reinforces understanding mechanical relationship between_x000d_ monetary policy fiscal framework copom emphasized conduct of_x000d_ monetary policy moment requires serenity patience incorporate the_x000d_ inherent delays inflation control interest rates therefore reach_x000d_ goals relevant monetary policy horizon therefore committee assessed_x000d_ scenarios could require resumption monetary policy tightening_x000d_ cycle become less likely_x000d_ _x000d_ _x000d_ monetary policy decision_x000d_ 21 considering assessed scenarios balance risks broad array of_x000d_ available information copom decided maintain selic rate 1375 pa the_x000d_ committee judges decision consistent strategy inflation_x000d_ convergence level around target throughout relevant horizon monetary_x000d_ policy includes year 2024 without compromising fundamental_x000d_ objective ensuring price stability decision also implies smoothing economic_x000d_ fluctuations fostering full employment_x000d_ 22 taking account uncertainty scenarios committee remains_x000d_ vigilant assessing strategy maintaining selic rate long period be_x000d_ enough ensure convergence inflation committee emphasizes will_x000d_ persist disinflationary process consolidates inflation expectations anchor_x000d_ around targets committee judges current scenario demands patience_x000d_ serenity conduct monetary policy copom emphasizes although less_x000d_ likely scenario hesitate resume tightening cycle disinflationary_x000d_ process proceed expected_x000d_ 23 following members committee voted decision roberto de_x000d_ oliveira campos neto governor diogo abry guillen fernanda magalhães rumenos_x000d_ guardado maurício costa de moura otávio ribeiro damaso paulo sérgio neves de_x000d_ souza renato dias de brito gomes_x000d_ _x000d_ _x000d_ 6 bcbgovbr_x000d_\n"
          ]
        }
      ]
    },
    {
      "cell_type": "code",
      "source": [
        "import re\n",
        "\n",
        "# Função para remover caracteres especiais\n",
        "def remove_caracteres_especiais(texto):\n",
        "    texto = re.sub(r'[^\\w\\s]', '', texto)\n",
        "    return texto\n",
        "\n",
        "# Aplicar a função na coluna de texto\n",
        "dados['texto'] = dados['texto'].apply(remove_caracteres_especiais)"
      ],
      "metadata": {
        "id": "JjWkplte59fp"
      },
      "execution_count": 4,
      "outputs": []
    },
    {
      "cell_type": "code",
      "source": [
        "# Transformar todas as letras maiúsculas em minúsculas na coluna de texto\n",
        "dados['texto'] = dados['texto'].str.lower()"
      ],
      "metadata": {
        "id": "xOuBtUiK64jD"
      },
      "execution_count": 5,
      "outputs": []
    },
    {
      "cell_type": "code",
      "source": [
        "import nltk\n",
        "nltk.download('punkt')"
      ],
      "metadata": {
        "colab": {
          "base_uri": "https://localhost:8080/"
        },
        "id": "V3hWdFGk8tJO",
        "outputId": "1fec9017-d507-47f7-9c57-c9029b8f2b7e"
      },
      "execution_count": 6,
      "outputs": [
        {
          "output_type": "stream",
          "name": "stderr",
          "text": [
            "[nltk_data] Downloading package punkt to /root/nltk_data...\n",
            "[nltk_data]   Unzipping tokenizers/punkt.zip.\n"
          ]
        },
        {
          "output_type": "execute_result",
          "data": {
            "text/plain": [
              "True"
            ]
          },
          "metadata": {},
          "execution_count": 6
        }
      ]
    },
    {
      "cell_type": "code",
      "source": [
        "import nltk\n",
        "nltk.download('stopwords')"
      ],
      "metadata": {
        "colab": {
          "base_uri": "https://localhost:8080/"
        },
        "id": "DQlmIGFO8wYF",
        "outputId": "00a9bf56-cff3-4d30-ee54-541b8b295630"
      },
      "execution_count": 7,
      "outputs": [
        {
          "output_type": "stream",
          "name": "stderr",
          "text": [
            "[nltk_data] Downloading package stopwords to /root/nltk_data...\n",
            "[nltk_data]   Unzipping corpora/stopwords.zip.\n"
          ]
        },
        {
          "output_type": "execute_result",
          "data": {
            "text/plain": [
              "True"
            ]
          },
          "metadata": {},
          "execution_count": 7
        }
      ]
    },
    {
      "cell_type": "code",
      "source": [
        "from nltk.corpus import stopwords\n",
        "from nltk.tokenize import word_tokenize\n",
        "\n",
        "# Obter a lista de stop words em inglês\n",
        "stop_words = set(stopwords.words('english'))\n",
        "\n",
        "# Função para remover as stop words\n",
        "def remove_stop_words(texto):\n",
        "    tokens = word_tokenize(texto)  # Tokenização do texto\n",
        "    tokens_sem_stop_words = [word for word in tokens if word.casefold() not in stop_words]  # Remoção das stop words\n",
        "    texto_sem_stop_words = ' '.join(tokens_sem_stop_words)  # Reconstrução do texto sem stop words\n",
        "    return texto_sem_stop_words\n",
        "\n",
        "# Aplicar a função na coluna de texto\n",
        "dados['texto'] = dados['texto'].apply(remove_stop_words)"
      ],
      "metadata": {
        "id": "UNRm44HZ76U-"
      },
      "execution_count": 8,
      "outputs": []
    },
    {
      "cell_type": "code",
      "source": [
        "import nltk\n",
        "nltk.download('wordnet')\n"
      ],
      "metadata": {
        "colab": {
          "base_uri": "https://localhost:8080/"
        },
        "id": "H4Pjxt8v9olS",
        "outputId": "856338da-0275-4eae-cc67-762d03ec3c9f"
      },
      "execution_count": 9,
      "outputs": [
        {
          "output_type": "stream",
          "name": "stderr",
          "text": [
            "[nltk_data] Downloading package wordnet to /root/nltk_data...\n"
          ]
        },
        {
          "output_type": "execute_result",
          "data": {
            "text/plain": [
              "True"
            ]
          },
          "metadata": {},
          "execution_count": 9
        }
      ]
    },
    {
      "cell_type": "code",
      "source": [
        "from nltk.stem import PorterStemmer\n",
        "\n",
        "# Função para realizar a stemização das palavras\n",
        "def stem_words(texto):\n",
        "    stemmer = PorterStemmer()\n",
        "    tokens = word_tokenize(texto)  # Tokenização do texto\n",
        "    stemmed_tokens = [stemmer.stem(word) for word in tokens]  # Stemização das palavras\n",
        "    texto_stemizado = ' '.join(stemmed_tokens)  # Reconstrução do texto stemizado\n",
        "    return texto_stemizado\n",
        "\n",
        "# Aplicar a função na coluna de texto\n",
        "dados['texto'] = dados['texto'].apply(stem_words)\n"
      ],
      "metadata": {
        "id": "KkyE1lll9q0E"
      },
      "execution_count": 10,
      "outputs": []
    },
    {
      "cell_type": "markdown",
      "source": [
        "Naive Bayes"
      ],
      "metadata": {
        "id": "FcplM6PyesNu"
      }
    },
    {
      "cell_type": "code",
      "source": [
        "from sklearn.model_selection import train_test_split\n",
        "from sklearn.feature_extraction.text import CountVectorizer\n",
        "from sklearn.naive_bayes import MultinomialNB, GaussianNB, BernoulliNB\n",
        "from sklearn.metrics import confusion_matrix, accuracy_score\n",
        "\n",
        "# Dividir o DataFrame em dados de treinamento e teste\n",
        "X = dados['texto']\n",
        "y = dados['sentimento']\n",
        "X_train, X_test, y_train, y_test = train_test_split(X, y, test_size=0.2, random_state=42)\n",
        "\n",
        "# Pré-processamento dos dados de texto\n",
        "vectorizer = CountVectorizer()\n",
        "X_train = vectorizer.fit_transform(X_train)\n",
        "X_test = vectorizer.transform(X_test)\n",
        "\n",
        "# Inicializar os classificadores\n",
        "mnb = MultinomialNB()\n",
        "gnb = GaussianNB()\n",
        "bnb = BernoulliNB()\n",
        "\n",
        "# Treinar os classificadores\n",
        "mnb.fit(X_train, y_train)\n",
        "gnb.fit(X_train.toarray(), y_train)\n",
        "bnb.fit(X_train, y_train)\n",
        "\n",
        "# Fazer previsões nos dados de teste\n",
        "y_pred_mnb = mnb.predict(X_test)\n",
        "y_pred_gnb = gnb.predict(X_test.toarray())\n",
        "y_pred_bnb = bnb.predict(X_test)\n",
        "\n"
      ],
      "metadata": {
        "id": "w2VyeuOY-LKz"
      },
      "execution_count": 12,
      "outputs": []
    },
    {
      "cell_type": "code",
      "source": [
        "# Gerar as matrizes de confusão\n",
        "confusion_mtx_mnb = confusion_matrix(y_test, y_pred_mnb)\n",
        "confusion_mtx_gnb = confusion_matrix(y_test, y_pred_gnb)\n",
        "confusion_mtx_bnb = confusion_matrix(y_test, y_pred_bnb)\n",
        "\n",
        "print(\"Matriz de Confusão - MultinomialNB:\")\n",
        "print(confusion_mtx_mnb)\n",
        "print(\"Matriz de Confusão - GaussianNB:\")\n",
        "print(confusion_mtx_gnb)\n",
        "print(\"Matriz de Confusão - BernoulliNB:\")\n",
        "print(confusion_mtx_bnb)"
      ],
      "metadata": {
        "colab": {
          "base_uri": "https://localhost:8080/"
        },
        "id": "wNf-HoWl_wIE",
        "outputId": "a90bd60d-5747-476c-cfbb-a84e5eb045dd"
      },
      "execution_count": 13,
      "outputs": [
        {
          "output_type": "stream",
          "name": "stdout",
          "text": [
            "Matriz de Confusão - MultinomialNB:\n",
            "[[26  5]\n",
            " [ 8  4]]\n",
            "Matriz de Confusão - GaussianNB:\n",
            "[[31  0]\n",
            " [ 8  4]]\n",
            "Matriz de Confusão - BernoulliNB:\n",
            "[[29  2]\n",
            " [ 8  4]]\n"
          ]
        }
      ]
    },
    {
      "cell_type": "code",
      "source": [
        "# Calcular a acurácia dos modelos\n",
        "accuracy_mnb = accuracy_score(y_test, y_pred_mnb)\n",
        "accuracy_gnb = accuracy_score(y_test, y_pred_gnb)\n",
        "accuracy_bnb = accuracy_score(y_test, y_pred_bnb)\n",
        "\n",
        "print(\"Acurácia - MultinomialNB:\", accuracy_mnb)\n",
        "print(\"Acurácia - GaussianNB:\", accuracy_gnb)\n",
        "print(\"Acurácia - BernoulliNB:\", accuracy_bnb)"
      ],
      "metadata": {
        "colab": {
          "base_uri": "https://localhost:8080/"
        },
        "id": "cEC5rE15_0Cs",
        "outputId": "8a206016-9cec-45de-a4e0-eced9070bfc2"
      },
      "execution_count": 14,
      "outputs": [
        {
          "output_type": "stream",
          "name": "stdout",
          "text": [
            "Acurácia - MultinomialNB: 0.6976744186046512\n",
            "Acurácia - GaussianNB: 0.813953488372093\n",
            "Acurácia - BernoulliNB: 0.7674418604651163\n"
          ]
        }
      ]
    },
    {
      "cell_type": "markdown",
      "source": [
        "Suporte Vector Machine"
      ],
      "metadata": {
        "id": "tq7eIu4aeQ0m"
      }
    },
    {
      "cell_type": "code",
      "source": [
        "import pandas as pd\n",
        "from sklearn.model_selection import train_test_split\n",
        "from sklearn.feature_extraction.text import CountVectorizer\n",
        "from sklearn.svm import SVC\n",
        "from sklearn.metrics import confusion_matrix, accuracy_score\n",
        "\n",
        "# Dividir o DataFrame em dados de treinamento e teste\n",
        "X = dados['texto']\n",
        "y = dados['sentimento']\n",
        "X_train, X_test, y_train, y_test = train_test_split(X, y, test_size=0.2, random_state=42)\n",
        "\n",
        "# Pré-processamento dos dados de texto\n",
        "vectorizer = CountVectorizer()\n",
        "X_train = vectorizer.fit_transform(X_train)\n",
        "X_test = vectorizer.transform(X_test)\n",
        "\n",
        "# Inicializar o classificador SVM\n",
        "svm = SVC()\n",
        "\n",
        "# Treinar o classificador SVM\n",
        "svm.fit(X_train, y_train)\n",
        "\n",
        "# Fazer previsões nos dados de teste\n",
        "y_pred_svm = svm.predict(X_test)\n",
        "\n",
        "# Gerar a matriz de confusão\n",
        "confusion_mtx_svm = confusion_matrix(y_test, y_pred_svm)\n",
        "\n",
        "print(\"Matriz de Confusão - SVM:\")\n",
        "print(confusion_mtx_svm)\n",
        "\n",
        "# Calcular a acurácia do modelo SVM\n",
        "accuracy_svm = accuracy_score(y_test, y_pred_svm)\n",
        "\n",
        "print(\"Acurácia - SVM:\", accuracy_svm)\n"
      ],
      "metadata": {
        "colab": {
          "base_uri": "https://localhost:8080/"
        },
        "id": "MDZ-zWj0dklL",
        "outputId": "36725b58-f4c5-40c3-9b9e-4132ad84c5be"
      },
      "execution_count": 16,
      "outputs": [
        {
          "output_type": "stream",
          "name": "stdout",
          "text": [
            "Matriz de Confusão - SVM:\n",
            "[[31  0]\n",
            " [12  0]]\n",
            "Acurácia - SVM: 0.7209302325581395\n"
          ]
        }
      ]
    },
    {
      "cell_type": "markdown",
      "source": [
        "Redes Neurais\n",
        "\n",
        "A rede neural utilizada no exemplo é um Perceptron de Múltiplas Camadas (Multilayer Perceptron, MLP). O MLP é uma arquitetura de rede neural artificial que consiste em várias camadas de neurônios, incluindo uma camada de entrada, uma ou mais camadas ocultas e uma camada de saída. Cada neurônio em uma camada está conectado a todos os neurônios na camada seguinte, formando uma rede densamente conectada."
      ],
      "metadata": {
        "id": "lhqBzsyQe9DX"
      }
    },
    {
      "cell_type": "code",
      "source": [
        "import pandas as pd\n",
        "from sklearn.model_selection import train_test_split\n",
        "from sklearn.feature_extraction.text import CountVectorizer\n",
        "from sklearn.neural_network import MLPClassifier\n",
        "from sklearn.metrics import confusion_matrix, accuracy_score\n",
        "\n",
        "# Dividir o DataFrame em dados de treinamento e teste\n",
        "X = dados['texto']\n",
        "y = dados['sentimento']\n",
        "X_train, X_test, y_train, y_test = train_test_split(X, y, test_size=0.2, random_state=42)\n",
        "\n",
        "# Pré-processamento dos dados de texto\n",
        "vectorizer = CountVectorizer()\n",
        "X_train = vectorizer.fit_transform(X_train)\n",
        "X_test = vectorizer.transform(X_test)\n",
        "\n",
        "# Inicializar o classificador MLP\n",
        "mlp = MLPClassifier(hidden_layer_sizes=(100,), random_state=42)\n",
        "\n",
        "# Treinar o classificador MLP\n",
        "mlp.fit(X_train, y_train)\n",
        "\n",
        "# Fazer previsões nos dados de teste\n",
        "y_pred_mlp = mlp.predict(X_test)\n",
        "\n",
        "# Gerar a matriz de confusão\n",
        "confusion_mtx_mlp = confusion_matrix(y_test, y_pred_mlp)\n",
        "\n",
        "print(\"Matriz de Confusão - MLP:\")\n",
        "print(confusion_mtx_mlp)\n",
        "\n",
        "# Calcular a acurácia do modelo MLP\n",
        "accuracy_mlp = accuracy_score(y_test, y_pred_mlp)\n",
        "\n",
        "print(\"Acurácia - MLP:\", accuracy_mlp)\n"
      ],
      "metadata": {
        "colab": {
          "base_uri": "https://localhost:8080/"
        },
        "id": "VeSoVTuwe-4D",
        "outputId": "af3b486c-7f30-4991-ad7e-d6da07526c69"
      },
      "execution_count": 17,
      "outputs": [
        {
          "output_type": "stream",
          "name": "stdout",
          "text": [
            "Matriz de Confusão - MLP:\n",
            "[[29  2]\n",
            " [ 4  8]]\n",
            "Acurácia - MLP: 0.8604651162790697\n"
          ]
        }
      ]
    }
  ]
}