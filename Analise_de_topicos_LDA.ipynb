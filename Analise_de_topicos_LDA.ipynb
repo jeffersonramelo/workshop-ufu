{
  "nbformat": 4,
  "nbformat_minor": 0,
  "metadata": {
    "colab": {
      "provenance": [],
      "authorship_tag": "ABX9TyMJxi0jaoofrjsRZWMEKDKk",
      "include_colab_link": true
    },
    "kernelspec": {
      "name": "python3",
      "display_name": "Python 3"
    },
    "language_info": {
      "name": "python"
    }
  },
  "cells": [
    {
      "cell_type": "markdown",
      "metadata": {
        "id": "view-in-github",
        "colab_type": "text"
      },
      "source": [
        "<a href=\"https://colab.research.google.com/github/jeffersonramelo/workshop-ufu/blob/main/Analise_de_topicos_LDA.ipynb\" target=\"_parent\"><img src=\"https://colab.research.google.com/assets/colab-badge.svg\" alt=\"Open In Colab\"/></a>"
      ]
    },
    {
      "cell_type": "code",
      "source": [
        "import pandas as pd\n",
        "import re\n",
        "from sklearn.feature_extraction.text import CountVectorizer\n",
        "from sklearn.decomposition import LatentDirichletAllocation\n",
        "from nltk.corpus import stopwords\n",
        "from nltk.stem import WordNetLemmatizer\n",
        "\n",
        "import nltk\n",
        "nltk.download('stopwords') # Carregar stopwords e inicializar lemmatizer\n",
        "\n",
        "stop_words = set(stopwords.words('english'))\n",
        "lemmatizer = WordNetLemmatizer()\n",
        "\n",
        "# Função para pré-processamento de texto\n",
        "def preprocess_text(text):\n",
        "    # Converter para minúsculas\n",
        "    text = text.lower()\n",
        "    \n",
        "    # Remover caracteres especiais e números\n",
        "    text = re.sub(r'[^a-zA-Z]', ' ', text)\n",
        "    \n",
        "    # Tokenização e lematização\n",
        "    tokens = text.split()\n",
        "    tokens = [lemmatizer.lemmatize(token) for token in tokens]\n",
        "    \n",
        "    # Remover stopwords\n",
        "    tokens = [token for token in tokens if token not in stop_words]\n",
        "    \n",
        "    # Juntar os tokens em uma string novamente\n",
        "    preprocessed_text = ' '.join(tokens)\n",
        "    \n",
        "    return preprocessed_text\n",
        "\n",
        "dados = pd.read_excel('/content/atascopomEN_ML.xlsx')\n",
        "\n",
        "import nltk\n",
        "nltk.download('wordnet')\n",
        "\n",
        "# Pré-processamento dos textos\n",
        "dados['texto_preprocessado'] = dados['texto'].apply(preprocess_text)\n",
        "\n",
        "# Vetorização dos textos\n",
        "vectorizer = CountVectorizer()\n",
        "X = vectorizer.fit_transform(dados['texto_preprocessado'])\n",
        "\n",
        "# Obter os nomes das características\n",
        "feature_names = vectorizer.get_feature_names_out()\n",
        "\n",
        "# Aplicar modelo LDA\n",
        "lda_model = LatentDirichletAllocation(n_components=5, random_state=42)\n",
        "lda_model.fit(X)\n",
        "\n",
        "# Extração dos tópicos e palavras-chave\n",
        "num_top_words = 10\n",
        "\n",
        "for topic_idx, topic in enumerate(lda_model.components_):\n",
        "    print(\"Tópico #%d:\" % topic_idx)\n",
        "    print(\" \".join([feature_names[i] for i in topic.argsort()[:-num_top_words - 1:-1]]))\n",
        "    print()\n"
      ],
      "metadata": {
        "colab": {
          "base_uri": "https://localhost:8080/"
        },
        "id": "NpgUbIrkYZ9-",
        "outputId": "3ae54f38-6530-4dfe-e640-31ebbb2e2c9d"
      },
      "execution_count": 28,
      "outputs": [
        {
          "output_type": "stream",
          "name": "stderr",
          "text": [
            "[nltk_data] Downloading package stopwords to /root/nltk_data...\n",
            "[nltk_data]   Package stopwords is already up-to-date!\n",
            "[nltk_data] Downloading package wordnet to /root/nltk_data...\n",
            "[nltk_data]   Package wordnet is already up-to-date!\n"
          ]
        },
        {
          "output_type": "stream",
          "name": "stdout",
          "text": [
            "Tópico #0:\n",
            "month price inflation rate increase year increased compared copom wa\n",
            "\n",
            "Tópico #1:\n",
            "inflation price month year copom increased monetary policy according market\n",
            "\n",
            "Tópico #2:\n",
            "price inflation month growth rate year index committee copom market\n",
            "\n",
            "Tópico #3:\n",
            "inflation copom monetary policy committee scenario economic rate risk economy\n",
            "\n",
            "Tópico #4:\n",
            "price rate month increase wa billion year exchange inflation central\n",
            "\n"
          ]
        }
      ]
    }
  ]
}