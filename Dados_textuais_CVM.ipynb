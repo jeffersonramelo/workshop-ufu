{
  "nbformat": 4,
  "nbformat_minor": 0,
  "metadata": {
    "colab": {
      "provenance": [],
      "authorship_tag": "ABX9TyMC9FuUG1Eue6ecJ9gJHaWZ",
      "include_colab_link": true
    },
    "kernelspec": {
      "name": "python3",
      "display_name": "Python 3"
    },
    "language_info": {
      "name": "python"
    }
  },
  "cells": [
    {
      "cell_type": "markdown",
      "metadata": {
        "id": "view-in-github",
        "colab_type": "text"
      },
      "source": [
        "<a href=\"https://colab.research.google.com/github/jeffersonramelo/workshop-ufu/blob/main/Dados_textuais_CVM.ipynb\" target=\"_parent\"><img src=\"https://colab.research.google.com/assets/colab-badge.svg\" alt=\"Open In Colab\"/></a>"
      ]
    },
    {
      "cell_type": "code",
      "execution_count": 1,
      "metadata": {
        "colab": {
          "base_uri": "https://localhost:8080/"
        },
        "id": "F6QMU9pi_H7m",
        "outputId": "69de4625-d6b3-41bf-aca6-6405d36af1ae"
      },
      "outputs": [
        {
          "output_type": "stream",
          "name": "stdout",
          "text": [
            "Looking in indexes: https://pypi.org/simple, https://us-python.pkg.dev/colab-wheels/public/simple/\n",
            "Collecting wget\n",
            "  Downloading wget-3.2.zip (10 kB)\n",
            "  Preparing metadata (setup.py) ... \u001b[?25l\u001b[?25hdone\n",
            "Building wheels for collected packages: wget\n",
            "  Building wheel for wget (setup.py) ... \u001b[?25l\u001b[?25hdone\n",
            "  Created wheel for wget: filename=wget-3.2-py3-none-any.whl size=9657 sha256=f84ecbe0576292d992fb7801996bb15118cabd21a2f8845fa2b6728aac160023\n",
            "  Stored in directory: /root/.cache/pip/wheels/8b/f1/7f/5c94f0a7a505ca1c81cd1d9208ae2064675d97582078e6c769\n",
            "Successfully built wget\n",
            "Installing collected packages: wget\n",
            "Successfully installed wget-3.2\n"
          ]
        }
      ],
      "source": [
        "!pip install wget"
      ]
    },
    {
      "cell_type": "code",
      "source": [
        "import pandas as pd\n",
        "import wget\n",
        "from zipfile import ZipFile"
      ],
      "metadata": {
        "id": "qmkA1fBD_3y0"
      },
      "execution_count": 2,
      "outputs": []
    },
    {
      "cell_type": "code",
      "source": [
        "#Acessando a base de dados e criando arquivos históricos\n",
        "url_base = 'https://dados.cvm.gov.br/dados/CIA_ABERTA/DOC/IPE/DADOS/'"
      ],
      "metadata": {
        "id": "hjh730LRAL6V"
      },
      "execution_count": 7,
      "outputs": []
    },
    {
      "cell_type": "code",
      "source": [
        "arquivos_zip = []\n",
        "for ano in range(2003, 2024):\n",
        "  arquivos_zip.append(f'ipe_cia_aberta_{ano}.zip')"
      ],
      "metadata": {
        "id": "M3oHwuTEBOcz"
      },
      "execution_count": 4,
      "outputs": []
    },
    {
      "cell_type": "code",
      "source": [
        "arquivos_zip"
      ],
      "metadata": {
        "colab": {
          "base_uri": "https://localhost:8080/"
        },
        "id": "Ca-NhGcSCJAM",
        "outputId": "c61ba933-2e2e-41bb-f5d3-445bdd24b34f"
      },
      "execution_count": 5,
      "outputs": [
        {
          "output_type": "execute_result",
          "data": {
            "text/plain": [
              "['ipe_cia_aberta_2003.zip',\n",
              " 'ipe_cia_aberta_2004.zip',\n",
              " 'ipe_cia_aberta_2005.zip',\n",
              " 'ipe_cia_aberta_2006.zip',\n",
              " 'ipe_cia_aberta_2007.zip',\n",
              " 'ipe_cia_aberta_2008.zip',\n",
              " 'ipe_cia_aberta_2009.zip',\n",
              " 'ipe_cia_aberta_2010.zip',\n",
              " 'ipe_cia_aberta_2011.zip',\n",
              " 'ipe_cia_aberta_2012.zip',\n",
              " 'ipe_cia_aberta_2013.zip',\n",
              " 'ipe_cia_aberta_2014.zip',\n",
              " 'ipe_cia_aberta_2015.zip',\n",
              " 'ipe_cia_aberta_2016.zip',\n",
              " 'ipe_cia_aberta_2017.zip',\n",
              " 'ipe_cia_aberta_2018.zip',\n",
              " 'ipe_cia_aberta_2019.zip',\n",
              " 'ipe_cia_aberta_2020.zip',\n",
              " 'ipe_cia_aberta_2021.zip',\n",
              " 'ipe_cia_aberta_2022.zip',\n",
              " 'ipe_cia_aberta_2023.zip']"
            ]
          },
          "metadata": {},
          "execution_count": 5
        }
      ]
    },
    {
      "cell_type": "code",
      "source": [
        "for arq in arquivos_zip:\n",
        "  wget.download(url_base+arq)"
      ],
      "metadata": {
        "id": "tIrXBLDPCe-0"
      },
      "execution_count": 8,
      "outputs": []
    },
    {
      "cell_type": "code",
      "source": [
        "#extraindo os arquivos do ZIP\n",
        "for arq in arquivos_zip:\n",
        "  ZipFile(arq, 'r').extractall('CVM')\n"
      ],
      "metadata": {
        "id": "qUt0KB32DSAz"
      },
      "execution_count": 9,
      "outputs": []
    },
    {
      "cell_type": "code",
      "source": [
        "import os\n",
        "import pandas as pd\n",
        "\n",
        "# Diretório dos arquivos CSV\n",
        "diretorio = 'CVM/'\n",
        "\n",
        "# Crie uma lista vazia para armazenar os DataFrames\n",
        "dataframes = []\n",
        "\n",
        "# Crie um loop para percorrer cada ano de 2003 a 2023\n",
        "for ano in range(2003, 2024):\n",
        "    # Construa o caminho completo para o arquivo CSV atual\n",
        "    nome_arquivo = f\"ipe_cia_aberta_{ano}.csv\"\n",
        "    caminho_arquivo = os.path.join(diretorio, nome_arquivo)\n",
        "    \n",
        "    # Carregue o arquivo CSV atual com a codificação 'latin-1' e o delimitador ';'\n",
        "    df = pd.read_csv(caminho_arquivo, encoding='latin-1', delimiter=';')\n",
        "    \n",
        "    # Adicione o DataFrame à lista\n",
        "    dataframes.append(df)\n",
        "\n",
        "# Concatene os DataFrames em um único DataFrame\n",
        "df_final = pd.concat(dataframes)\n",
        "\n",
        "# Salve o DataFrame final em um novo arquivo CSV\n",
        "caminho_saida = os.path.join(diretorio, \"ipe_cia_aberta_todos.csv\")\n",
        "df_final.to_csv(caminho_saida, index=False)\n"
      ],
      "metadata": {
        "id": "wIUtCaUHGdak"
      },
      "execution_count": 14,
      "outputs": []
    },
    {
      "cell_type": "markdown",
      "source": [
        "# Nova seção"
      ],
      "metadata": {
        "id": "F-eEQ-DlG0U8"
      }
    }
  ]
}